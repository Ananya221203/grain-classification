{
  "nbformat": 4,
  "nbformat_minor": 0,
  "metadata": {
    "colab": {
      "provenance": [],
      "authorship_tag": "ABX9TyOND8XMWJ7F2xpghxdafBnY",
      "include_colab_link": true
    },
    "kernelspec": {
      "name": "python3",
      "display_name": "Python 3"
    },
    "language_info": {
      "name": "python"
    }
  },
  "cells": [
    {
      "cell_type": "markdown",
      "metadata": {
        "id": "view-in-github",
        "colab_type": "text"
      },
      "source": [
        "<a href=\"https://colab.research.google.com/github/Ananya221203/grain-classification/blob/main/grain_classification.ipynb\" target=\"_parent\"><img src=\"https://colab.research.google.com/assets/colab-badge.svg\" alt=\"Open In Colab\"/></a>"
      ]
    },
    {
      "cell_type": "markdown",
      "source": [
        "**grain classification**"
      ],
      "metadata": {
        "id": "WJvs-K5yqZA3"
      }
    },
    {
      "cell_type": "code",
      "source": [
        "!pip install landingai & </dev/null\n",
        "!pip install pillow"
      ],
      "metadata": {
        "colab": {
          "base_uri": "https://localhost:8080/"
        },
        "id": "7malBn13qhuw",
        "outputId": "3b232f68-c623-432c-959d-ef15ac13adcb"
      },
      "execution_count": 2,
      "outputs": [
        {
          "output_type": "stream",
          "name": "stdout",
          "text": [
            "Requirement already satisfied: landingai in /usr/local/lib/python3.10/dist-packages (0.3.44)\n",
            "Requirement already satisfied: aiofiles<1.0.0,>=0.7.0 in /usr/local/lib/python3.10/dist-packages (from landingai) (0.8.0)\n",
            "Requirement already satisfied: aiohttp[speedups]<4.0.0,>=3.7.3 in /usr/local/lib/python3.10/dist-packages (from landingai) (3.9.5)\n",
            "Requirement already satisfied: bbox-visualizer<0.2.0,>=0.1.0 in /usr/local/lib/python3.10/dist-packages (from landingai) (0.1.0)\n",
            "Requirement already satisfied: imageio[ffmpeg]<3.0.0,>=2.0.0 in /usr/local/lib/python3.10/dist-packages (from landingai) (2.31.6)\n",
            "Requirement already satisfied: numpy<2.0.0,>=1.21.0 in /usr/local/lib/python3.10/dist-packages (from landingai) (1.25.2)\n",
            "Requirement already satisfied: opencv-python<5.0,>=4.5 in /usr/local/lib/python3.10/dist-packages (from landingai) (4.8.0.76)\n",
            "Requirement already satisfied: pandas<3.0.0,>=2.0.0 in /usr/local/lib/python3.10/dist-packages (from landingai) (2.0.3)\n",
            "Requirement already satisfied: pillow<11.0,>=9.0 in /usr/local/lib/python3.10/dist-packages (from landingai) (9.4.0)\n",
            "Requirement already satisfied: pydantic<3.0.0,>=2.0.0 in /usr/local/lib/python3.10/dist-packages (from landingai) (2.7.3)\n",
            "Requirement already satisfied: pydantic-settings<3.0.0,>=2.3.1 in /usr/local/lib/python3.10/dist-packages (from landingai) (2.3.3)\n",
            "Requirement already satisfied: requests<3.0.0,>=2.0.0 in /usr/local/lib/python3.10/dist-packages (from landingai) (2.31.0)\n",
            "Requirement already satisfied: requests-toolbelt<2.0.0,>=1.0.0 in /usr/local/lib/python3.10/dist-packages (from landingai) (1.0.0)\n",
            "Requirement already satisfied: segmentation-mask-overlay<0.4.0,>=0.3.4 in /usr/local/lib/python3.10/dist-packages (from landingai) (0.3.4)\n",
            "Requirement already satisfied: tenacity<9.0.0,>=8.2.3 in /usr/local/lib/python3.10/dist-packages (from landingai) (8.3.0)\n",
            "Requirement already satisfied: tqdm<5.0.0,>=4.64.0 in /usr/local/lib/python3.10/dist-packages (from landingai) (4.66.4)\n",
            "Requirement already satisfied: urllib3<2.0.0,>=1.26.0 in /usr/local/lib/python3.10/dist-packages (from landingai) (1.26.19)\n",
            "Requirement already satisfied: aiosignal>=1.1.2 in /usr/local/lib/python3.10/dist-packages (from aiohttp[speedups]<4.0.0,>=3.7.3->landingai) (1.3.1)\n",
            "Requirement already satisfied: attrs>=17.3.0 in /usr/local/lib/python3.10/dist-packages (from aiohttp[speedups]<4.0.0,>=3.7.3->landingai) (23.2.0)\n",
            "Requirement already satisfied: frozenlist>=1.1.1 in /usr/local/lib/python3.10/dist-packages (from aiohttp[speedups]<4.0.0,>=3.7.3->landingai) (1.4.1)\n",
            "Requirement already satisfied: multidict<7.0,>=4.5 in /usr/local/lib/python3.10/dist-packages (from aiohttp[speedups]<4.0.0,>=3.7.3->landingai) (6.0.5)\n",
            "Requirement already satisfied: yarl<2.0,>=1.0 in /usr/local/lib/python3.10/dist-packages (from aiohttp[speedups]<4.0.0,>=3.7.3->landingai) (1.9.4)\n",
            "Requirement already satisfied: async-timeout<5.0,>=4.0 in /usr/local/lib/python3.10/dist-packages (from aiohttp[speedups]<4.0.0,>=3.7.3->landingai) (4.0.3)\n",
            "Requirement already satisfied: Brotli in /usr/local/lib/python3.10/dist-packages (from aiohttp[speedups]<4.0.0,>=3.7.3->landingai) (1.1.0)\n",
            "Requirement already satisfied: aiodns in /usr/local/lib/python3.10/dist-packages (from aiohttp[speedups]<4.0.0,>=3.7.3->landingai) (3.2.0)\n",
            "Requirement already satisfied: imageio-ffmpeg in /usr/local/lib/python3.10/dist-packages (from imageio[ffmpeg]<3.0.0,>=2.0.0->landingai) (0.5.1)\n",
            "Requirement already satisfied: psutil in /usr/local/lib/python3.10/dist-packages (from imageio[ffmpeg]<3.0.0,>=2.0.0->landingai) (5.9.5)\n",
            "Requirement already satisfied: python-dateutil>=2.8.2 in /usr/local/lib/python3.10/dist-packages (from pandas<3.0.0,>=2.0.0->landingai) (2.8.2)\n",
            "Requirement already satisfied: pytz>=2020.1 in /usr/local/lib/python3.10/dist-packages (from pandas<3.0.0,>=2.0.0->landingai) (2023.4)\n",
            "Requirement already satisfied: tzdata>=2022.1 in /usr/local/lib/python3.10/dist-packages (from pandas<3.0.0,>=2.0.0->landingai) (2024.1)\n",
            "Requirement already satisfied: annotated-types>=0.4.0 in /usr/local/lib/python3.10/dist-packages (from pydantic<3.0.0,>=2.0.0->landingai) (0.7.0)\n",
            "Requirement already satisfied: pydantic-core==2.18.4 in /usr/local/lib/python3.10/dist-packages (from pydantic<3.0.0,>=2.0.0->landingai) (2.18.4)\n",
            "Requirement already satisfied: typing-extensions>=4.6.1 in /usr/local/lib/python3.10/dist-packages (from pydantic<3.0.0,>=2.0.0->landingai) (4.12.2)\n",
            "Requirement already satisfied: python-dotenv>=0.21.0 in /usr/local/lib/python3.10/dist-packages (from pydantic-settings<3.0.0,>=2.3.1->landingai) (1.0.1)\n",
            "Requirement already satisfied: charset-normalizer<4,>=2 in /usr/local/lib/python3.10/dist-packages (from requests<3.0.0,>=2.0.0->landingai) (3.3.2)\n",
            "Requirement already satisfied: idna<4,>=2.5 in /usr/local/lib/python3.10/dist-packages (from requests<3.0.0,>=2.0.0->landingai) (3.7)\n",
            "Requirement already satisfied: certifi>=2017.4.17 in /usr/local/lib/python3.10/dist-packages (from requests<3.0.0,>=2.0.0->landingai) (2024.6.2)\n",
            "Requirement already satisfied: matplotlib>=3.4.2 in /usr/local/lib/python3.10/dist-packages (from segmentation-mask-overlay<0.4.0,>=0.3.4->landingai) (3.7.1)\n",
            "Requirement already satisfied: opencv-python-headless>=4.5.3 in /usr/local/lib/python3.10/dist-packages (from segmentation-mask-overlay<0.4.0,>=0.3.4->landingai) (4.10.0.82)\n",
            "Requirement already satisfied: contourpy>=1.0.1 in /usr/local/lib/python3.10/dist-packages (from matplotlib>=3.4.2->segmentation-mask-overlay<0.4.0,>=0.3.4->landingai) (1.2.1)\n",
            "Requirement already satisfied: cycler>=0.10 in /usr/local/lib/python3.10/dist-packages (from matplotlib>=3.4.2->segmentation-mask-overlay<0.4.0,>=0.3.4->landingai) (0.12.1)\n",
            "Requirement already satisfied: fonttools>=4.22.0 in /usr/local/lib/python3.10/dist-packages (from matplotlib>=3.4.2->segmentation-mask-overlay<0.4.0,>=0.3.4->landingai) (4.53.0)\n",
            "Requirement already satisfied: kiwisolver>=1.0.1 in /usr/local/lib/python3.10/dist-packages (from matplotlib>=3.4.2->segmentation-mask-overlay<0.4.0,>=0.3.4->landingai) (1.4.5)\n",
            "Requirement already satisfied: packaging>=20.0 in /usr/local/lib/python3.10/dist-packages (from matplotlib>=3.4.2->segmentation-mask-overlay<0.4.0,>=0.3.4->landingai) (24.1)\n",
            "Requirement already satisfied: pyparsing>=2.3.1 in /usr/local/lib/python3.10/dist-packages (from matplotlib>=3.4.2->segmentation-mask-overlay<0.4.0,>=0.3.4->landingai) (3.1.2)\n",
            "Requirement already satisfied: six>=1.5 in /usr/local/lib/python3.10/dist-packages (from python-dateutil>=2.8.2->pandas<3.0.0,>=2.0.0->landingai) (1.16.0)\n",
            "Requirement already satisfied: pycares>=4.0.0 in /usr/local/lib/python3.10/dist-packages (from aiodns->aiohttp[speedups]<4.0.0,>=3.7.3->landingai) (4.4.0)\n",
            "Requirement already satisfied: setuptools in /usr/local/lib/python3.10/dist-packages (from imageio-ffmpeg->imageio[ffmpeg]<3.0.0,>=2.0.0->landingai) (67.7.2)\n",
            "Requirement already satisfied: cffi>=1.5.0 in /usr/local/lib/python3.10/dist-packages (from pycares>=4.0.0->aiodns->aiohttp[speedups]<4.0.0,>=3.7.3->landingai) (1.16.0)\n",
            "Requirement already satisfied: pycparser in /usr/local/lib/python3.10/dist-packages (from cffi>=1.5.0->pycares>=4.0.0->aiodns->aiohttp[speedups]<4.0.0,>=3.7.3->landingai) (2.22)\n",
            "Requirement already satisfied: pillow in /usr/local/lib/python3.10/dist-packages (9.4.0)\n"
          ]
        }
      ]
    },
    {
      "cell_type": "code",
      "execution_count": 3,
      "metadata": {
        "colab": {
          "base_uri": "https://localhost:8080/"
        },
        "id": "MCDHN8aspdPp",
        "outputId": "77533a9a-f53b-42d6-dba0-c2c4a13df050"
      },
      "outputs": [
        {
          "output_type": "stream",
          "name": "stdout",
          "text": [
            "[ClassificationPrediction(score=0.981963038444519, label_name='bajra', label_index=1)]\n"
          ]
        }
      ],
      "source": [
        "from PIL import Image\n",
        "from landingai.predict import Predictor\n",
        "# Enter your API Key\n",
        "endpoint_id = \"91812137-c4c6-46c5-9c6d-1e0de4052494\"\n",
        "api_key = \"land_sk_y0bX92usgwd7B59d7QMe39PSXw7ta1Blsd6aIGhgnMQU6ZX0lf\"\n",
        "# Load your image\n",
        "image = Image.open(\"/content/bajra3.jpg\")\n",
        "# Run inference\n",
        "predictor = Predictor(endpoint_id, api_key=api_key)\n",
        "predictions = predictor.predict(image)\n",
        "print(predictions)"
      ]
    }
  ]
}